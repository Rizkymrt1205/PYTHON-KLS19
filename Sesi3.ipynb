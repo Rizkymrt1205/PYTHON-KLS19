{
  "cells": [
    {
      "cell_type": "markdown",
      "id": "cc3e5752",
      "metadata": {
        "id": "cc3e5752"
      },
      "source": [
        "# Python Function"
      ]
    },
    {
      "cell_type": "markdown",
      "id": "b947f601",
      "metadata": {
        "id": "b947f601"
      },
      "source": [
        "## Defining a Function"
      ]
    },
    {
      "cell_type": "code",
      "execution_count": null,
      "id": "9c9df1b6",
      "metadata": {
        "id": "9c9df1b6"
      },
      "outputs": [],
      "source": [
        "def function_name( parameters ):\n",
        "    \"docstring\"\n",
        "    statement(s)\n"
      ]
    },
    {
      "cell_type": "code",
      "execution_count": null,
      "id": "0df16067",
      "metadata": {
        "id": "0df16067"
      },
      "outputs": [],
      "source": [
        "def my_function(p, l):\n",
        "    \"Function untuk menghitung luas\"\n",
        "    print(p * l)"
      ]
    },
    {
      "cell_type": "code",
      "execution_count": null,
      "id": "8523e544",
      "metadata": {
        "id": "8523e544",
        "outputId": "ef176e9a-2638-445a-87de-eabb0985f175"
      },
      "outputs": [
        {
          "name": "stdout",
          "output_type": "stream",
          "text": [
            "8\n"
          ]
        }
      ],
      "source": [
        "my_function(2,4)"
      ]
    },
    {
      "cell_type": "code",
      "execution_count": null,
      "id": "c677817a",
      "metadata": {
        "id": "c677817a"
      },
      "outputs": [],
      "source": [
        "def printime( str ):\n",
        "    \"This prints a passed string into this function\"\n",
        "    print(str)\n",
        "    return"
      ]
    },
    {
      "cell_type": "markdown",
      "id": "4b6873b7",
      "metadata": {
        "id": "4b6873b7"
      },
      "source": [
        "## Calling a function"
      ]
    },
    {
      "cell_type": "code",
      "execution_count": null,
      "id": "03e6b12c",
      "metadata": {
        "id": "03e6b12c",
        "outputId": "ce5c4cda-ef9e-49b1-f4bb-84f08ec3520a"
      },
      "outputs": [
        {
          "name": "stdout",
          "output_type": "stream",
          "text": [
            "I'm first call to user defined function!\n",
            "Again seccond call to thhe same function\n"
          ]
        }
      ],
      "source": [
        "# Function definition is here\n",
        "def printme( str ):\n",
        "    \"This prints a passed string into this function\"\n",
        "    print(str)\n",
        "    return;\n",
        "# Now you can call printme function\n",
        "printme(\"I'm first call to user defined function!\")\n",
        "printme(\"Again seccond call to thhe same function\")"
      ]
    },
    {
      "cell_type": "markdown",
      "id": "91fd3079",
      "metadata": {
        "id": "91fd3079"
      },
      "source": [
        "## Pass by reference vs value"
      ]
    },
    {
      "cell_type": "code",
      "execution_count": null,
      "id": "626fe9fe",
      "metadata": {
        "id": "626fe9fe",
        "outputId": "47be2a9b-68d2-4b81-8d6f-84d4cc88a901"
      },
      "outputs": [
        {
          "name": "stdout",
          "output_type": "stream",
          "text": [
            "Values inside the function:  [10, 20, 30, [1, 2, 3, 4]]\n",
            "Values outside the function:  [10, 20, 30, [1, 2, 3, 4]]\n"
          ]
        }
      ],
      "source": [
        "#Function definition\n",
        "def changeme( mylist ):\n",
        "    \"This changes a passed list into this function\"\n",
        "    mylist.append([1,2,3,4]);\n",
        "    print(\"Values inside the function: \",mylist)\n",
        "    return\n",
        "#Now you can call cangeme function\n",
        "mylist = [10,20,30];\n",
        "changeme( mylist );\n",
        "print(\"Values outside the function: \",mylist)"
      ]
    },
    {
      "cell_type": "code",
      "execution_count": null,
      "id": "ac7321ed",
      "metadata": {
        "id": "ac7321ed",
        "outputId": "46c820ef-aa87-437d-a9bc-68f6e1b1caa1"
      },
      "outputs": [
        {
          "name": "stdout",
          "output_type": "stream",
          "text": [
            "Values inside the function:  [1, 2, 3, 4]\n",
            "Values outside the function:  [10, 20, 30]\n"
          ]
        }
      ],
      "source": [
        "# Function definition is here\n",
        "def changeme( mylist ):\n",
        "    \"This changes a passed list into this function\"\n",
        "    mylist = [1,2,3,4]; #This would assig new reference in mylist\n",
        "    print(\"Values inside the function: \",mylist)\n",
        "    return\n",
        "#Now you can call changeme function\n",
        "mylist = [10,20,30];\n",
        "changeme( mylist );\n",
        "print(\"Values outside the function: \", mylist)"
      ]
    },
    {
      "cell_type": "markdown",
      "id": "cd2e303f",
      "metadata": {
        "id": "cd2e303f"
      },
      "source": [
        "# Function Arguments"
      ]
    },
    {
      "cell_type": "markdown",
      "id": "3f902dc8",
      "metadata": {
        "id": "3f902dc8"
      },
      "source": [
        "## 1. Required arguments"
      ]
    },
    {
      "cell_type": "markdown",
      "id": "831a977c",
      "metadata": {
        "id": "831a977c"
      },
      "source": [
        "Required arguments adalah argumen yang diteruskan ke suatu fungsi dalam urutan posisi yang benar. Disini,jumlah argumen dalam pemanggilan fungsi harus sama persis dengan function definition.\n",
        "Untuk memanggil fungsi printme(), kalian pasti perlu memberikan satu argument."
      ]
    },
    {
      "cell_type": "code",
      "execution_count": null,
      "id": "88644183",
      "metadata": {
        "id": "88644183",
        "outputId": "dc72eb99-8d42-4a27-c6f0-becdaae892d9"
      },
      "outputs": [
        {
          "name": "stdout",
          "output_type": "stream",
          "text": [
            "Hacktiv8\n"
          ]
        }
      ],
      "source": [
        "# Function definition is here\n",
        "def printme( str ):\n",
        "    \"This prints a passed string into this function\"\n",
        "    print(str)\n",
        "    return;\n",
        "# Now you can call printme function\n",
        "printme(str = \"Hacktiv8\")"
      ]
    },
    {
      "cell_type": "markdown",
      "id": "043cf682",
      "metadata": {
        "id": "043cf682"
      },
      "source": [
        "## 2. Keyword arguments\n",
        "Keyword arguments berkaitan dengan pemanggilan fungsi. Saat kalian menggunakan Keyword arguments dalam memanggil fungsi, pemanggil mengidentifikasi argumen dengan nama parameter.\n",
        "Hal ini memungkiinkan kalian untuk melewati argumen atau menempatkannya tidak berurutan karena interpreter Python dapat menggunakan kata kunci yang disediakan untuk mencocokkan nilai dengan parameter. Kalian juga dapat membuat panggilan data kunci ke fungsi printme() dengan cara berikut:"
      ]
    },
    {
      "cell_type": "code",
      "execution_count": null,
      "id": "e51642e1",
      "metadata": {
        "id": "e51642e1",
        "outputId": "2e19824a-0c7e-4123-dd78-569c29d02b08"
      },
      "outputs": [
        {
          "name": "stdout",
          "output_type": "stream",
          "text": [
            "Name:  Hacktiv8\n",
            "Age:  4\n"
          ]
        }
      ],
      "source": [
        "# Function definition is here\n",
        "def printinfo( name, age ):\n",
        "    \"This prints a passed info into this function\"\n",
        "    print(\"Name: \",name)\n",
        "    print(\"Age: \",age)\n",
        "    return;\n",
        "#now you can call printinfo function\n",
        "printinfo( age=4, name=\"Hacktiv8\")"
      ]
    },
    {
      "cell_type": "markdown",
      "id": "dae750bf",
      "metadata": {
        "id": "dae750bf"
      },
      "source": [
        "## 3. Default Arguments"
      ]
    },
    {
      "cell_type": "markdown",
      "id": "6893b53a",
      "metadata": {
        "id": "6893b53a"
      },
      "source": [
        "Default argument adalah argumen yang mengasumsikan nilai default jika nilai tidak disediakan dalam pemganggilan fungsi untuk argumen tersebut. Contoh berikut memberikan gambaran tentang Default argument, dia akan mencetak usia default jika tidak diberikan nilai apapun."
      ]
    },
    {
      "cell_type": "code",
      "execution_count": null,
      "id": "ca37c09d",
      "metadata": {
        "id": "ca37c09d",
        "outputId": "4288a12c-9651-459c-b956-5c6a53a8a76a"
      },
      "outputs": [
        {
          "name": "stdout",
          "output_type": "stream",
          "text": [
            "Name:  Hacktiv8\n",
            "Age:  50\n",
            "Name:  Hactiv\n",
            "Age:  26\n"
          ]
        }
      ],
      "source": [
        "# Function Definition\n",
        "def printinfo( name, age = 26):\n",
        "    print(\"Name: \",name)\n",
        "    print(\"Age: \",age)\n",
        "    return;\n",
        "printinfo( age=50, name=\"Hacktiv8\")\n",
        "printinfo( name=\"Hactiv\")"
      ]
    },
    {
      "cell_type": "markdown",
      "id": "11f6646b",
      "metadata": {
        "id": "11f6646b"
      },
      "source": [
        "## 4. Variable-length arguments\n",
        "Kalian mungkin perlu memproses suatu fungsi untuk menerima lebih banyak argumen daripada yang kalian tentukan saat mendefinisikan fungsi. Argumen ini disebut variable-length arguments dan tidak diberi nama ketika definisi fungsi, tidak seperti required dan default arguments.\n",
        "Sintaks untuk fungsi dengan non-keyword variable arguments adalah sbb:"
      ]
    },
    {
      "cell_type": "code",
      "execution_count": null,
      "id": "e4929179",
      "metadata": {
        "id": "e4929179",
        "outputId": "25bc94c0-93e6-40f5-963e-83e6aed95546"
      },
      "outputs": [
        {
          "name": "stdout",
          "output_type": "stream",
          "text": [
            "Output is: \n",
            "10\n",
            "Output is: \n",
            "70\n",
            "60\n",
            "50\n",
            "a\n"
          ]
        }
      ],
      "source": [
        "def printinfo( arg1, *vartuple):\n",
        "    \"This prints a variable passed arguments\"\n",
        "    print(\"Output is: \")\n",
        "    print(arg1)\n",
        "    for var in vartuple:\n",
        "        print(var)\n",
        "    return;\n",
        "printinfo( 10 )\n",
        "printinfo( 70, 60, 50, \"a\")"
      ]
    },
    {
      "cell_type": "markdown",
      "id": "5a33eed5",
      "metadata": {
        "id": "5a33eed5"
      },
      "source": [
        "## The Anonymous Functions\n",
        "Function ini disebut anonymous karena tidak dideklarasikan dengan cara standar dengan menggunakan keyword def. Kalian dapat menggunakan keyword lambda untuk membuat anonymous fuunctions.\n",
        "- Lambda dapat mengambil berapapun argumen tetapi hanya mengembalikan satu nilai dalam bentuk expression. Lambda tidak boleh berisi commands atau multiple expressions.\n",
        "- Anonymous function tidak bisa dipanggil langsing melalui print karena lambda memerlukan expression\n",
        "- Lambda functions memiliki namespace local sendiri dan tidak dapat mengakses variabel selain yang ada didaftar parameternya dan yang ada di namespace glibal.\n",
        "\n",
        "Berikut adalah contoh untuk menunjuuukkan cara kerja bentuk fungsi lambda:"
      ]
    },
    {
      "cell_type": "code",
      "execution_count": null,
      "id": "a38285b5",
      "metadata": {
        "id": "a38285b5",
        "outputId": "27e26f70-e0ab-4856-cb58-3400b04c6072"
      },
      "outputs": [
        {
          "name": "stdout",
          "output_type": "stream",
          "text": [
            "Value of total :  30\n",
            "Value of total :  40\n"
          ]
        }
      ],
      "source": [
        "# Function definition is here\n",
        "sum = lambda arg1, arg2: arg1 + arg2;\n",
        "\n",
        "def sum(arg1, arg2):\n",
        "    return arg1 + arg2\n",
        "\n",
        "#Now you can call sum as a function\n",
        "print(\"Value of total : \", sum( 10, 20 ))\n",
        "print(\"Value of total : \", sum( 20, 20 ))"
      ]
    },
    {
      "cell_type": "markdown",
      "id": "0ff46a4f",
      "metadata": {
        "id": "0ff46a4f"
      },
      "source": [
        "## The return statement\n",
        "Statement return [expression] menyebabkan kita keluar dari suatu fungsi, dan secara opsional meneruskan ekspresi ke pemanggil. Pernyataan return tanpa argumen sama dengan return None.\n",
        "\n",
        "Semua contoh di atas tidak mengembalikan nilai apapun. kalian dapat mengembalikan nilai dari fungsi sebb"
      ]
    },
    {
      "cell_type": "code",
      "execution_count": null,
      "id": "660652b1",
      "metadata": {
        "id": "660652b1",
        "outputId": "bb4570a3-930e-49b3-c2f6-82b40a3eede3"
      },
      "outputs": [
        {
          "name": "stdout",
          "output_type": "stream",
          "text": [
            "Inside the function : 30\n",
            "Outside the function : 40\n"
          ]
        }
      ],
      "source": [
        "def sum(arg1, arg2):\n",
        "    total = arg1 + arg2\n",
        "    total2 = total + arg1\n",
        "    print(\"Inside the function :\", total)\n",
        "    return total2\n",
        "total = sum(10, 20)\n",
        "print(\"Outside the function :\", total)"
      ]
    },
    {
      "cell_type": "markdown",
      "id": "99a93c11",
      "metadata": {
        "id": "99a93c11"
      },
      "source": [
        "## Scope of Variables\n",
        "Semua variabel dalam program mungkim tidak dapat diakses di semua lokasi dalam program tersebut. Tergantung dimana kalian mendelekrasikan variabel.\n",
        "\n",
        "Scope of a variable menentukan aturan apakah program ditempat kalian dapat mengakses identifier tertentu. Ada dua cakupann dasar variabel di Python\n",
        "- Global variables\n",
        "- Local variables\n",
        "### Global vs. Local variables\n",
        "Variabel yang didefinisikan didalam badan fungsi adalah local scope, dan variabel yang ditentukan di luar alah global scope.\n",
        "\n",
        "ini berarti bahwa variabel lokal hanya dapat diakses didalam fungsi yang dideklarasikan, sedangkan variabel global dapat diiakses seluruh badan program oleh semua fungsi. Saat kalian memanggil. sebuah fungsi, variabel yang dideklarasikan di dalamnya akan dimasukkan ke dalam scopenya."
      ]
    },
    {
      "cell_type": "code",
      "execution_count": null,
      "id": "772a2844",
      "metadata": {
        "colab": {
          "base_uri": "https://localhost:8080/"
        },
        "id": "772a2844",
        "outputId": "6202af00-2182-4c92-b8d8-bfb4be22f473"
      },
      "outputs": [
        {
          "output_type": "stream",
          "name": "stdout",
          "text": [
            "inside the function local total: 30\n",
            "Outside the function global total: 0\n"
          ]
        }
      ],
      "source": [
        "total = 0\n",
        "\n",
        "def my_sum(arg1, arg2):\n",
        "    local_total = arg1 + arg2\n",
        "    print(\"inside the function local total:\", local_total)\n",
        "    return local_total\n",
        "\n",
        "def my_min():\n",
        "    pass  # You can add some logic here if needed\n",
        "\n",
        "result = my_sum(10, 20)\n",
        "print(\"Outside the function global total:\", total)\n"
      ]
    },
    {
      "cell_type": "code",
      "execution_count": null,
      "id": "f1bf29f6",
      "metadata": {
        "colab": {
          "base_uri": "https://localhost:8080/"
        },
        "id": "f1bf29f6",
        "outputId": "fd7fe6e1-83b2-44f6-ba12-74cc29e52059"
      },
      "outputs": [
        {
          "output_type": "execute_result",
          "data": {
            "text/plain": [
              "40"
            ]
          },
          "metadata": {},
          "execution_count": 7
        }
      ],
      "source": [
        "jumlahKucing = 20\n",
        "def jumlahHewan():\n",
        "  jumlahAnjing = 30\n",
        "  return jumlahKucing + jumlahAnjing\n",
        "def jumlahKelinci():\n",
        "  return jumlahKucing + jumlahKucing\n",
        "jumlahHewan()\n",
        "jumlahKelinci()"
      ]
    },
    {
      "cell_type": "markdown",
      "source": [
        "### Python Modules\n",
        "Bagian ini membahas Python modules dan Python packages, dua mekanisme menfasilistasi pemrograman modular/modular programming.\n",
        "- Simplicity ; Fokus pada satu bagian masalah yang relatif kecil\n",
        "- Maintainability ; dirancang sedemikian rupa sehingga menerapkan logical boundaries antara domain masalah yang berbeda\n",
        "- Reusability ; Fungsi yang didefinisikan dalam satu modul dapat dengan mudah digunakan kembali/reused oleh bagian lain dari aplikasi.\n",
        "- Scoping ; Modul biasanya mendefinisikan namescape secara terpisah, yang membantu menghindari tabrakan antara identifiers di berbagai area program."
      ],
      "metadata": {
        "id": "3EPSlETnEOeq"
      },
      "id": "3EPSlETnEOeq"
    },
    {
      "cell_type": "markdown",
      "source": [],
      "metadata": {
        "id": "OmzgLaAlEHZq"
      },
      "id": "OmzgLaAlEHZq"
    },
    {
      "cell_type": "code",
      "source": [
        "s = \"Hacktiv8-PTP Python for Data Science\"\n",
        "a = [100, 200, 300]\n",
        "def foo(arg):\n",
        "  print(f'arg = {arg}')\n",
        "  class Foo:\n",
        "    pass"
      ],
      "metadata": {
        "id": "dtDX5yfSFKyE"
      },
      "id": "dtDX5yfSFKyE",
      "execution_count": null,
      "outputs": []
    },
    {
      "cell_type": "code",
      "source": [],
      "metadata": {
        "id": "X9v1V5FNFhPX"
      },
      "id": "X9v1V5FNFhPX",
      "execution_count": null,
      "outputs": []
    },
    {
      "cell_type": "markdown",
      "source": [
        "Beberapa objek didefinisikan di mod,py:\n",
        "- s (a string)\n",
        "- a (a list)\n",
        "- foo() (a function)\n",
        "-Foo (a class)"
      ],
      "metadata": {
        "id": "p5Htk-DGFkVR"
      },
      "id": "p5Htk-DGFkVR"
    },
    {
      "cell_type": "code",
      "source": [
        "import mod\n",
        "print(mod)"
      ],
      "metadata": {
        "colab": {
          "base_uri": "https://localhost:8080/"
        },
        "id": "wyHonXSwFzkv",
        "outputId": "bd0037aa-6964-402f-b3a5-e4d2b213b68f"
      },
      "id": "wyHonXSwFzkv",
      "execution_count": null,
      "outputs": [
        {
          "output_type": "stream",
          "name": "stdout",
          "text": [
            "<module 'mod' from '/usr/local/lib/python3.10/dist-packages/mod.py'>\n"
          ]
        }
      ]
    },
    {
      "cell_type": "code",
      "source": [
        "import sys\n",
        "sys.path"
      ],
      "metadata": {
        "colab": {
          "base_uri": "https://localhost:8080/"
        },
        "id": "yp0RimqnF-Ra",
        "outputId": "b6c1d807-6746-4821-fc60-0f915e5062e7"
      },
      "id": "yp0RimqnF-Ra",
      "execution_count": null,
      "outputs": [
        {
          "output_type": "execute_result",
          "data": {
            "text/plain": [
              "['/content',\n",
              " '/env/python',\n",
              " '/usr/lib/python310.zip',\n",
              " '/usr/lib/python3.10',\n",
              " '/usr/lib/python3.10/lib-dynload',\n",
              " '',\n",
              " '/usr/local/lib/python3.10/dist-packages',\n",
              " '/usr/lib/python3/dist-packages',\n",
              " '/usr/local/lib/python3.10/dist-packages/IPython/extensions',\n",
              " '/root/.ipython']"
            ]
          },
          "metadata": {},
          "execution_count": 15
        }
      ]
    },
    {
      "cell_type": "code",
      "source": [],
      "metadata": {
        "id": "hEh738wcGXnS"
      },
      "id": "hEh738wcGXnS",
      "execution_count": 20,
      "outputs": []
    },
    {
      "cell_type": "code",
      "source": [],
      "metadata": {
        "id": "JwdhIhbZGrHQ"
      },
      "id": "JwdhIhbZGrHQ",
      "execution_count": null,
      "outputs": []
    }
  ],
  "metadata": {
    "kernelspec": {
      "display_name": "Python 3 (ipykernel)",
      "language": "python",
      "name": "python3"
    },
    "language_info": {
      "codemirror_mode": {
        "name": "ipython",
        "version": 3
      },
      "file_extension": ".py",
      "mimetype": "text/x-python",
      "name": "python",
      "nbconvert_exporter": "python",
      "pygments_lexer": "ipython3",
      "version": "3.11.4"
    },
    "colab": {
      "provenance": []
    }
  },
  "nbformat": 4,
  "nbformat_minor": 5
}