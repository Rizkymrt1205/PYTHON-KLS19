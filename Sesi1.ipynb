{
 "cells": [
  {
   "cell_type": "code",
   "execution_count": 1,
   "id": "12f51fa1",
   "metadata": {},
   "outputs": [
    {
     "name": "stdout",
     "output_type": "stream",
     "text": [
      "10\n",
      "100\n"
     ]
    }
   ],
   "source": [
    "print(10)\n",
    "print(100)"
   ]
  },
  {
   "cell_type": "code",
   "execution_count": 3,
   "id": "629780d8",
   "metadata": {},
   "outputs": [
    {
     "name": "stdout",
     "output_type": "stream",
     "text": [
      "0.00042\n",
      "<class 'float'>\n"
     ]
    }
   ],
   "source": [
    "print(4.2e-4)\n",
    "print(type(4.2e-4))"
   ]
  },
  {
   "cell_type": "code",
   "execution_count": 10,
   "id": "388f3ea6",
   "metadata": {},
   "outputs": [
    {
     "data": {
      "text/plain": [
       "'Helo World'"
      ]
     },
     "metadata": {},
     "output_type": "display_data"
    },
    {
     "name": "stdout",
     "output_type": "stream",
     "text": [
      "Helo Wolrd\n",
      "<class 'str'>\n",
      "Hello Wolrd\n",
      "Can't\n",
      "\"She\" knows\n",
      "' \"She\" knows she can't do it\" \n",
      "\n"
     ]
    }
   ],
   "source": [
    "display('Helo World')\n",
    "print('Helo Wolrd')\n",
    "print(type('apa'))\n",
    "print('Hello Wolrd')\n",
    "print(\"Can't\")\n",
    "print('\"She\" knows')\n",
    "print('''' \"She\" knows she can't do it\" ''')\n",
    "print('')"
   ]
  },
  {
   "cell_type": "code",
   "execution_count": 12,
   "id": "aba58902",
   "metadata": {},
   "outputs": [
    {
     "name": "stdout",
     "output_type": "stream",
     "text": [
      "True\n",
      "False\n",
      "1\n",
      "2\n",
      "0\n"
     ]
    }
   ],
   "source": [
    "print(True)\n",
    "print(False)\n",
    "\n",
    "print(True + False)\n",
    "print(True + True)\n",
    "print(False + False)"
   ]
  },
  {
   "cell_type": "code",
   "execution_count": 14,
   "id": "079d66be",
   "metadata": {},
   "outputs": [
    {
     "name": "stdout",
     "output_type": "stream",
     "text": [
      "b\n"
     ]
    },
    {
     "data": {
      "text/plain": [
       "500"
      ]
     },
     "execution_count": 14,
     "metadata": {},
     "output_type": "execute_result"
    }
   ],
   "source": [
    "a = 'b'\n",
    "print(a)\n",
    "\n",
    "a = 500\n",
    "a"
   ]
  },
  {
   "cell_type": "code",
   "execution_count": 17,
   "id": "16b4e821",
   "metadata": {},
   "outputs": [
    {
     "name": "stdout",
     "output_type": "stream",
     "text": [
      "10\n",
      "10\n",
      "10\n",
      "1\n",
      "2\n",
      "a\n"
     ]
    }
   ],
   "source": [
    "q = w = e = 10\n",
    "print(q)\n",
    "print(w)\n",
    "print(e)\n",
    "\n",
    "z, x, y = 1, 2, 'a'\n",
    "print(z)\n",
    "print(x)\n",
    "print(y)"
   ]
  },
  {
   "cell_type": "code",
   "execution_count": 18,
   "id": "3f0b8ff9",
   "metadata": {},
   "outputs": [
    {
     "data": {
      "text/plain": [
       "'dor'"
      ]
     },
     "execution_count": 18,
     "metadata": {},
     "output_type": "execute_result"
    }
   ],
   "source": [
    "age = 25\n",
    "_shot1 = 'dor'\n",
    "_shot1"
   ]
  },
  {
   "cell_type": "code",
   "execution_count": 21,
   "id": "924078f2",
   "metadata": {},
   "outputs": [
    {
     "name": "stdout",
     "output_type": "stream",
     "text": [
      "7\n",
      "3\n",
      "10\n",
      "2.5\n",
      "2\n",
      "25\n",
      "1\n",
      "17\n"
     ]
    }
   ],
   "source": [
    "a = 5\n",
    "b = 2\n",
    "print(a + b)\n",
    "print(a - b)\n",
    "print(a * b)\n",
    "print(a / b)\n",
    "print(a // b) #Pembagian desimal\n",
    "print(a ** b) #pangkat\n",
    "print(a % b) # modulo\n",
    "print(a + b + 10)"
   ]
  },
  {
   "cell_type": "code",
   "execution_count": 27,
   "id": "6e73eeee",
   "metadata": {},
   "outputs": [
    {
     "name": "stdout",
     "output_type": "stream",
     "text": [
      "False\n",
      "True\n",
      "True\n",
      "True\n",
      "True\n",
      "False\n",
      "False\n"
     ]
    }
   ],
   "source": [
    "a = 5\n",
    "b = 2\n",
    "c = 2\n",
    "print(a == b)\n",
    "print(c == b)\n",
    "print(a !=b) #Tidak sama dengan\n",
    "print(a > b)\n",
    "print(a >= b)\n",
    "print(a < b)\n",
    "print(a <= b)"
   ]
  },
  {
   "cell_type": "code",
   "execution_count": 32,
   "id": "cf8a7e4f",
   "metadata": {},
   "outputs": [
    {
     "name": "stdout",
     "output_type": "stream",
     "text": [
      "Python\n",
      "Hacktive8\n",
      "PyPyPyPyPy\n",
      "True\n",
      "False\n"
     ]
    }
   ],
   "source": [
    "q = 'Py'\n",
    "w = 'thon'\n",
    "print(q + w)\n",
    "print('Hacktive' + '8' )\n",
    "print(q * a)\n",
    "print(q in 'Python')\n",
    "print(w in 'Pyton')"
   ]
  },
  {
   "cell_type": "code",
   "execution_count": 33,
   "id": "321599d5",
   "metadata": {},
   "outputs": [
    {
     "name": "stdout",
     "output_type": "stream",
     "text": [
      "HACTIVE8 KAMPUS\n",
      "hactive8 kampus\n",
      "Hactive8 kampus\n",
      "hActIVe8 kAMPUs\n",
      "Hactive8 Kampus\n"
     ]
    }
   ],
   "source": [
    "h = 'HaCTivE8 KampuS'\n",
    "print(h.upper())\n",
    "print(h.lower())\n",
    "print(h.capitalize())\n",
    "print(h.swapcase())\n",
    "print(h.title())"
   ]
  },
  {
   "cell_type": "code",
   "execution_count": 34,
   "id": "e11b9581",
   "metadata": {},
   "outputs": [],
   "source": [
    "#index ke 0  1  2.   3.   4.          5            6.   7.  8. 9. 10\n",
    "daftar = [1, 2, 43, 'a', True, ['b', 300, False], 4.6, 1+1, a, q, w]\n",
    "# index minus\n",
    "py = ['Python', 'KS19', 'asoyyy']\n",
    "# py = [12, 2, 10]"
   ]
  },
  {
   "cell_type": "code",
   "execution_count": 35,
   "id": "d70246ed",
   "metadata": {},
   "outputs": [
    {
     "name": "stdout",
     "output_type": "stream",
     "text": [
      "[1, 2, 43, 'a', True, ['b', 300, False], 4.6, 2, 5, 'Py', 'thon', 'Python', 'KS19', 'asoyyy']\n",
      "['Python', 'KS19', 'asoyyy', 'Python', 'KS19', 'asoyyy', 'Python', 'KS19', 'asoyyy']\n",
      "11\n",
      "asoyyy\n",
      "KS19\n"
     ]
    }
   ],
   "source": [
    "# print(type(daftar))\n",
    "# print(daftar)\n",
    "# print(daftar[3])\n",
    "# print(daftar[5])\n",
    "# print(daftar[7])\n",
    "# print(daftar[-3])\n",
    "# print(daftar[1:6])\n",
    "print(daftar + py)\n",
    "print(py * 3)\n",
    "print(len(daftar))\n",
    "print(max(py))\n",
    "print(min(py))"
   ]
  },
  {
   "cell_type": "code",
   "execution_count": 36,
   "id": "c260b24f",
   "metadata": {},
   "outputs": [
    {
     "name": "stdout",
     "output_type": "stream",
     "text": [
      "[1, 2, 43, 'a', True, ['b', 300, False], 4.6, 2, ['Python', 'KS19', 'asoyyy'], 'Py', 'thon']\n",
      "[1, 2, 43, 'a', True, ['b', 300, False], 4.6, 2, ['Python', 'KS19', 'asoyyy'], 'udah malem', 'thon']\n",
      "[1, 2, 43, 'a', True, ['b', 300, False], 4.6, 2, ['Python', 'KS19', 'asoyyy'], 'udah malem', 'thon']\n",
      "[1.5, 'a', True, ['b', 300, False], 4.6, 2, ['Python', 'KS19', 'asoyyy'], 'udah malem', 'thon']\n"
     ]
    }
   ],
   "source": [
    "#index ke 0  1  2    3    4           5            6    7   8  9  10\n",
    "daftar = [1, 2, 43, 'a', True, ['b', 300, False], 4.6, 1+1, a, q, w]\n",
    "# index minus                                               -3 -2 -1\n",
    "py = ['Python', 'KS19', 'asoyyy']\n",
    "\n",
    "daftar[8] = py\n",
    "print(daftar)\n",
    "daftar[-2] = 'udah malem'\n",
    "print(daftar)\n",
    "# del daftar[3]\n",
    "print(daftar)\n",
    "daftar[:3] = [1.5]\n",
    "print(daftar)"
   ]
  },
  {
   "cell_type": "code",
   "execution_count": 37,
   "id": "82b34845",
   "metadata": {},
   "outputs": [
    {
     "name": "stdout",
     "output_type": "stream",
     "text": [
      "(1, 2, 43, 'a', True, ['b', 300, False], 4.6, 2, 5, 'Py', 'thon')\n",
      "(2, 43, 'a', True)\n"
     ]
    }
   ],
   "source": [
    "tapel = (1, 2, 43, 'a', True, ['b', 300, False], 4.6, 1+1, a, q, w)\n",
    "print(tapel)\n",
    "print(tapel[1:5])"
   ]
  },
  {
   "cell_type": "code",
   "execution_count": 38,
   "id": "9754c9fd",
   "metadata": {},
   "outputs": [],
   "source": [
    "(z, x, y) = (1, 2, 'a')"
   ]
  },
  {
   "cell_type": "code",
   "execution_count": 39,
   "id": "e9f662df",
   "metadata": {},
   "outputs": [
    {
     "data": {
      "text/plain": [
       "str"
      ]
     },
     "execution_count": 39,
     "metadata": {},
     "output_type": "execute_result"
    }
   ],
   "source": [
    "type(y)"
   ]
  },
  {
   "cell_type": "code",
   "execution_count": null,
   "id": "7a708296",
   "metadata": {},
   "outputs": [],
   "source": [
    "kamus = {\n",
    "    'apa':'what', 'siapa':'who', 'bagaimana':'how'\n",
    "}\n",
    "print(type(kamus))\n",
    "print(kamus['apa'])\n",
    "kamus['kapan'] = 'when'\n",
    "print(kamus)\n",
    "del kamus['apa']\n",
    "print(kamus)\n",
    "# kamus.clear()\n",
    "print(kamus)\n"
   ]
  },
  {
   "cell_type": "code",
   "execution_count": 40,
   "id": "5c07027e",
   "metadata": {},
   "outputs": [
    {
     "name": "stdout",
     "output_type": "stream",
     "text": [
      "{'kota': ['madagascar'], 'jalan': 'situ baru', 'nomor rumah': 10, 'pohon': ['cendana', 'mahoni', 'beringin'], 'akses': {'KRL': 'bisa', 'TJ': {'bisa': 'tapi susah'}, 'ojol': 'tidak'}}\n",
      "mahoni\n",
      "tapi susah\n",
      "dict_items([('kota', ['madagascar']), ('jalan', 'situ baru'), ('nomor rumah', 10), ('pohon', ['cendana', 'mahoni', 'beringin']), ('akses', {'KRL': 'bisa', 'TJ': {'bisa': 'tapi susah'}, 'ojol': 'tidak'})])\n",
      "\n",
      "dict_values([['madagascar'], 'situ baru', 10, ['cendana', 'mahoni', 'beringin'], {'KRL': 'bisa', 'TJ': {'bisa': 'tapi susah'}, 'ojol': 'tidak'}])\n",
      "\n",
      "dict_keys(['kota', 'jalan', 'nomor rumah', 'pohon', 'akses'])\n"
     ]
    }
   ],
   "source": [
    "alamat = {}\n",
    "\n",
    "alamat['kota'] = ['madagascar'] \n",
    "alamat['jalan'] = 'situ baru'\n",
    "alamat['nomor rumah'] = 10\n",
    "alamat['pohon'] = ['cendana', 'mahoni', 'beringin']\n",
    "alamat['akses'] = {'KRL':'bisa', 'TJ':{'bisa':'tapi susah'}, 'ojol':'tidak'}\n",
    "\n",
    "print(alamat)\n",
    "print(alamat['pohon'][1])\n",
    "print(alamat['akses']['TJ']['bisa'])\n",
    "print(alamat.items())\n",
    "print()\n",
    "print(alamat.values())\n",
    "print()\n",
    "print(alamat.keys())"
   ]
  },
  {
   "cell_type": "code",
   "execution_count": 41,
   "id": "99fb9b6b",
   "metadata": {},
   "outputs": [
    {
     "data": {
      "text/plain": [
       "True"
      ]
     },
     "execution_count": 41,
     "metadata": {},
     "output_type": "execute_result"
    }
   ],
   "source": [
    "a = 10\n",
    "b = 2\n",
    "c = 10\n",
    "\n",
    "d = (\n",
    "    a == c\n",
    "    or c==a\n",
    "    or a == b\n",
    ")\n",
    "d"
   ]
  },
  {
   "cell_type": "code",
   "execution_count": null,
   "id": "c214967f",
   "metadata": {},
   "outputs": [],
   "source": []
  }
 ],
 "metadata": {
  "kernelspec": {
   "display_name": "Python 3 (ipykernel)",
   "language": "python",
   "name": "python3"
  },
  "language_info": {
   "codemirror_mode": {
    "name": "ipython",
    "version": 3
   },
   "file_extension": ".py",
   "mimetype": "text/x-python",
   "name": "python",
   "nbconvert_exporter": "python",
   "pygments_lexer": "ipython3",
   "version": "3.11.4"
  }
 },
 "nbformat": 4,
 "nbformat_minor": 5
}
